{
 "cells": [
  {
   "cell_type": "code",
   "execution_count": 1,
   "metadata": {},
   "outputs": [],
   "source": [
    "import pandas as pd\n",
    "import numpy as np\n",
    "from numpy.random import randint, rand\n",
    "from sklearn.preprocessing import scale"
   ]
  },
  {
   "cell_type": "code",
   "execution_count": 2,
   "metadata": {},
   "outputs": [],
   "source": [
    "Y = pd.read_csv('./data/PseudoGASelected1.csv', index_col=[0]).T.values\n",
    "# mData = pd.read_csv('./data/Shalek/ShalekCellMeta.csv', index_col=[0])"
   ]
  },
  {
   "cell_type": "code",
   "execution_count": 3,
   "metadata": {},
   "outputs": [
    {
     "name": "stdout",
     "output_type": "stream",
     "text": [
      "Cells: 90, Genes: 500\n"
     ]
    }
   ],
   "source": [
    "from sklearn import preprocessing\n",
    "Y = scale(Y)\n",
    "N, D = Y.shape\n",
    "print('Cells: %s, Genes: %s'%(N, D))"
   ]
  },
  {
   "cell_type": "code",
   "execution_count": 4,
   "metadata": {},
   "outputs": [],
   "source": [
    "captureTime = np.asarray([1, 1, 1, 2 ,2, 2, 3, 3, 3, 3, 3, 3, 4, 4, 4, 4, 4, 4, 4, 4, 4, 4, 4, 4, 5, 5, 5, 5, 5, 5, 5, 5, 5, 5, 5, 5, 5, 5, 5, 5, 5, 5, 5, 5 ,6 ,6 ,\n",
    "6, 6 ,6, 6, 6, 6, 6, 6, 6, 6, 6, 6, 6, 6, 7, 7, 7, 7, 7, 7, 7, 7,\n",
    "7, 7, 7, 7, 7, 7, 7, 7, 7, 7, 7, 7, 7, 7, 7, 7, 7, 7, 7, 7, 7, 7])"
   ]
  },
  {
   "cell_type": "code",
   "execution_count": 5,
   "metadata": {},
   "outputs": [
    {
     "data": {
      "text/plain": [
       "array([1, 1, 1, 2, 2, 2, 3, 3, 3, 3, 3, 3, 4, 4, 4, 4, 4, 4, 4, 4, 4, 4,\n",
       "       4, 4, 5, 5, 5, 5, 5, 5, 5, 5, 5, 5, 5, 5, 5, 5, 5, 5, 5, 5, 5, 5,\n",
       "       6, 6, 6, 6, 6, 6, 6, 6, 6, 6, 6, 6, 6, 6, 6, 6, 7, 7, 7, 7, 7, 7,\n",
       "       7, 7, 7, 7, 7, 7, 7, 7, 7, 7, 7, 7, 7, 7, 7, 7, 7, 7, 7, 7, 7, 7,\n",
       "       7, 7])"
      ]
     },
     "execution_count": 5,
     "metadata": {},
     "output_type": "execute_result"
    }
   ],
   "source": [
    "captureTime"
   ]
  },
  {
   "cell_type": "code",
   "execution_count": 6,
   "metadata": {},
   "outputs": [
    {
     "name": "stdout",
     "output_type": "stream",
     "text": [
      "<class 'numpy.ndarray'>\n"
     ]
    }
   ],
   "source": [
    "n_pop = N * 4\n",
    "np.random.seed(10)\n",
    "sigma_t = 1.\n",
    "prior_mean = captureTime\n",
    "print(type(prior_mean))\n",
    "# N = 5\n",
    "pop = [np.asanyarray([prior_mean[i] + sigma_t * np.random.randn(1) for i in range(0, N)]).reshape(-1) for _ in range(0, n_pop)]\n",
    "# np.array(prior_mean).shape\n",
    "# pop"
   ]
  },
  {
   "cell_type": "code",
   "execution_count": 7,
   "metadata": {},
   "outputs": [],
   "source": [
    "from sklearn.linear_model import LinearRegression\n",
    "from sklearn.preprocessing import PolynomialFeatures\n",
    "# from sklearn.preprocessing import SplineTransformer\n",
    "from sklearn.metrics import mean_squared_error\n",
    "\n",
    "def objectiveFunction(x):\n",
    "    x = x[:,None]\n",
    "    x_ = PolynomialFeatures(degree=3, include_bias=False).fit_transform(x)\n",
    "#     x_ = PolynomialFeatures(degree=2, include_bias=False).fit_transform(x)\n",
    "    \n",
    "#     x_ = SplineTransformer(degree=2, n_knots=3).fit_transform(x)\n",
    "    mse = 0.\n",
    "    \n",
    "    for i in range(0, D):\n",
    "        y = Y[:,i]\n",
    "        model = LinearRegression().fit(x_, y)\n",
    "\n",
    "#         num_params = len(model.coef_) + 1\n",
    "#         print('Number of parameters: %d' % (num_params))\n",
    "#         print(model.coef_)\n",
    "\n",
    "        # predict the training set\n",
    "        yhat = model.predict(x_)\n",
    "        # calculate the error\n",
    "        mse += mean_squared_error(y, yhat)\n",
    "#     print('MSE: %.3f' % mse)\n",
    "    del model, y, yhat, x, x_\n",
    "    return mse\n",
    "\n",
    "# tournament selection\n",
    "def selection(pop, scores, k=3):\n",
    "    # first random selection\n",
    "    selection_ix = randint(len(pop))\n",
    "    for ix in randint(0, len(pop), k-1):\n",
    "        # check if better (e.g. perform a tournament)\n",
    "        if scores[ix] < scores[selection_ix]:\n",
    "            selection_ix = ix\n",
    "    return pop[selection_ix]"
   ]
  },
  {
   "cell_type": "code",
   "execution_count": 8,
   "metadata": {},
   "outputs": [],
   "source": [
    "# crossover two parents to create two children\n",
    "def crossover(p1, p2, r_cross=0.9):\n",
    "    # children are copies of parents by default\n",
    "    c1, c2 = p1.copy(), p2.copy()\n",
    "#     print('Sumon')\n",
    "#     print(c1.shape)\n",
    "    # check for recombination\n",
    "    if rand() < r_cross:\n",
    "        # select crossover point that is not on the end of the string\n",
    "        pt = randint(1, len(p1)-2)\n",
    "        # perform crossover\n",
    "        c1 = np.concatenate( (p1[:pt], p2[pt:]), axis=None)\n",
    "        c2 = np.concatenate( (p2[:pt], p1[pt:]), axis=None)\n",
    "#         print(c1, c2)\n",
    "    return [c1, c2]\n",
    "\n",
    "# mutation operator\n",
    "def mutation(offSpring, r_mut=0.05):\n",
    "    sigma_mu = .5\n",
    "    for i in range(0, len(offSpring)):\n",
    "        # check for a mutation\n",
    "        if rand() < r_mut:\n",
    "            offSpring[i] = offSpring[i] + sigma_mu * np.random.randn(1)"
   ]
  },
  {
   "cell_type": "code",
   "execution_count": 9,
   "metadata": {
    "scrolled": true
   },
   "outputs": [
    {
     "name": "stdout",
     "output_type": "stream",
     "text": [
      ">0, new best_eval = 203.987\n",
      ">1, new best_eval = 202.026\n",
      ">2, new best_eval = 198.230\n",
      ">3, new best_eval = 198.230\n",
      ">4, new best_eval = 198.230\n",
      ">5, new best_eval = 196.631\n",
      ">6, new best_eval = 192.120\n",
      ">7, new best_eval = 189.005\n",
      ">8, new best_eval = 185.924\n",
      ">9, new best_eval = 185.255\n",
      ">10, new best_eval = 185.034\n",
      ">11, new best_eval = 181.015\n",
      ">12, new best_eval = 178.739\n",
      ">13, new best_eval = 176.453\n",
      ">14, new best_eval = 175.551\n",
      ">15, new best_eval = 172.707\n",
      ">16, new best_eval = 170.309\n",
      ">17, new best_eval = 170.309\n",
      ">18, new best_eval = 165.051\n",
      ">19, new best_eval = 161.771\n",
      ">20, new best_eval = 160.969\n",
      ">21, new best_eval = 160.515\n",
      ">22, new best_eval = 158.582\n",
      ">23, new best_eval = 151.545\n",
      ">24, new best_eval = 151.328\n",
      ">25, new best_eval = 151.328\n",
      ">26, new best_eval = 148.243\n",
      ">27, new best_eval = 148.243\n",
      ">28, new best_eval = 148.243\n",
      ">29, new best_eval = 148.243\n",
      ">30, new best_eval = 148.243\n",
      ">31, new best_eval = 146.328\n",
      ">32, new best_eval = 144.788\n",
      ">33, new best_eval = 144.540\n",
      ">34, new best_eval = 142.413\n",
      ">35, new best_eval = 142.413\n",
      ">36, new best_eval = 140.905\n",
      ">37, new best_eval = 140.905\n",
      ">38, new best_eval = 139.645\n",
      ">39, new best_eval = 137.287\n",
      ">40, new best_eval = 137.287\n",
      ">41, new best_eval = 137.159\n",
      ">42, new best_eval = 136.440\n",
      ">43, new best_eval = 136.440\n",
      ">44, new best_eval = 135.303\n",
      ">45, new best_eval = 133.005\n",
      ">46, new best_eval = 133.005\n",
      ">47, new best_eval = 133.005\n",
      ">48, new best_eval = 132.028\n",
      ">49, new best_eval = 130.289\n",
      "[ 0.28338468 -0.42704198  0.87026203  1.4133403   1.37498268  1.07899039\n",
      "  0.6610894   0.09080642  2.681934    2.63417765  3.12033899  3.1686557\n",
      "  2.60538718  2.30583693  2.61541322  1.80358438  1.34987817  2.9088226\n",
      "  1.46609248  1.76034608  1.43013479  2.44703106  1.10826598  2.7290124\n",
      "  4.27227887  3.81764814  4.34997961  3.10614921  6.69626604  5.25475469\n",
      "  4.61882901  5.47068479  5.46958055  6.1328727   5.90798826  5.59767851\n",
      "  5.4950622   5.21998099  5.7850242   5.65736339  5.35913481  6.60799039\n",
      "  6.19226763  6.7815609   6.00302404  7.02439661  5.23691845  6.13685221\n",
      "  8.0848094   7.49538853  6.99567177  5.55444554  7.14770717  7.68930634\n",
      "  7.38086058  8.23129253  8.2025251   6.65767193  4.81335486  5.69638907\n",
      "  8.47777175  6.3661439   7.55422572  8.37614054  6.60752523  6.62446031\n",
      "  8.93019261  8.33450755  5.96443739  8.02558053  5.68864518  7.69530899\n",
      "  6.74456948  5.73962869  7.11832499  6.26035669  8.32431504  6.04567711\n",
      "  9.03457346  6.0017554   9.32975166  6.60106674  7.39164259  5.83876271\n",
      "  6.60967812  9.07214839  7.02597872  6.68315299  8.59208536  7.33703781] 130.28872147787516\n"
     ]
    }
   ],
   "source": [
    "n_iter = 50\n",
    "best, best_eval = 0, objectiveFunction(pop[0])\n",
    "# print(best_eval)\n",
    "for gen in range (0, n_iter):\n",
    "    scores = [objectiveFunction(c) for c in pop]\n",
    "    for j in range(0,n_pop):\n",
    "        if scores[j] < best_eval:\n",
    "            best, best_eval = pop[j], scores[j]\n",
    "#     print(\">%d, new best f(%s) = %.3f\" % (gen,  best, best_eval))\n",
    "    print(\">%d, new best_eval = %.3f\" % (gen, best_eval))\n",
    "    \n",
    "    # select parents\n",
    "    selected = [selection(pop, scores) for _ in range(0,n_pop)]\n",
    "#     print(\"Selected\")\n",
    "#     print(len(selected))\n",
    "#     print(selected)\n",
    "    # create the next generation\n",
    "    children = list()\n",
    "    for i in range(0, n_pop, 2):\n",
    "        # get selected parents in pairs\n",
    "        p1, p2 = selected[i], selected[i]\n",
    "        # crossover and mutation\n",
    "        for c in crossover(p1, p2, r_cross=0.95):\n",
    "#             # mutation\n",
    "            mutation(c, r_mut=0.15)\n",
    "#             # store for next generation\n",
    "            children.append(c)\n",
    "#     print(len(children))\n",
    "#     # replace population\n",
    "    pop = children\n",
    "#     return [best, best_eval]\n",
    "print(best, best_eval)"
   ]
  },
  {
   "cell_type": "code",
   "execution_count": 12,
   "metadata": {},
   "outputs": [
    {
     "data": {
      "text/plain": [
       "<matplotlib.collections.PathCollection at 0x240c7b0ee80>"
      ]
     },
     "execution_count": 12,
     "metadata": {},
     "output_type": "execute_result"
    },
    {
     "data": {
      "image/png": "[encoded data removed]",
      "text/plain": [
       "<Figure size 432x288 with 1 Axes>"
      ]
     },
     "metadata": {
      "needs_background": "light"
     },
     "output_type": "display_data"
    }
   ],
   "source": [
    "from matplotlib import pyplot as plt\n",
    "plt.scatter(best, captureTime, c=captureTime)"
   ]
  },
  {
   "cell_type": "code",
   "execution_count": 11,
   "metadata": {},
   "outputs": [
    {
     "name": "stdout",
     "output_type": "stream",
     "text": [
      "SpearmanrResult(correlation=0.8354449786704603, pvalue=1.339039200365959e-24)\n"
     ]
    }
   ],
   "source": [
    "from scipy import stats\n",
    "print(stats.spearmanr(best, captureTime))"
   ]
  }
 ],
 "metadata": {
  "kernelspec": {
   "display_name": "Python [conda env:py35]",
   "language": "python",
   "name": "conda-env-py35-py"
  },
  "language_info": {
   "codemirror_mode": {
    "name": "ipython",
    "version": 3
   },
   "file_extension": ".py",
   "mimetype": "text/x-python",
   "name": "python",
   "nbconvert_exporter": "python",
   "pygments_lexer": "ipython3",
   "version": "3.5.6"
  }
 },
 "nbformat": 4,
 "nbformat_minor": 4
}
