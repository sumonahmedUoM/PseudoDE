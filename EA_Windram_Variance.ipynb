{
  "cells": [
    {
      "cell_type": "code",
      "execution_count": null,
      "metadata": {
        "id": "FAekXLfJXQhz"
      },
      "outputs": [],
      "source": [
        "import pandas as pd\n",
        "import numpy as np\n",
        "from numpy.random import randint, rand\n",
        "from sklearn.preprocessing import scale"
      ]
    },
    {
      "cell_type": "code",
      "execution_count": null,
      "metadata": {
        "id": "EE3ZrUsQXQh3"
      },
      "outputs": [],
      "source": [
        "Y = pd.read_csv('/content/sample_data/WindramTrainingData.csv', index_col=[0]).T.values\n",
        "mData = pd.read_csv('/content/sample_data/WindramMetaData.csv', index_col=[0])"
      ]
    },
    {
      "cell_type": "code",
      "execution_count": null,
      "metadata": {
        "id": "X3kw_xujXQh4"
      },
      "outputs": [],
      "source": [
        "Y = scale(Y)"
      ]
    },
    {
      "cell_type": "code",
      "execution_count": null,
      "metadata": {
        "scrolled": true,
        "colab": {
          "base_uri": "https://localhost:8080/"
        },
        "id": "5Qyl_wshXQh4",
        "outputId": "b9e077ab-ee13-46b8-acea-b7b065718c42"
      },
      "outputs": [
        {
          "output_type": "stream",
          "name": "stdout",
          "text": [
            "Time Points: 24, Genes: 100\n"
          ]
        }
      ],
      "source": [
        "N, D = Y.shape\n",
        "print('Time Points: %s, Genes: %s'%(N, D))"
      ]
    },
    {
      "cell_type": "code",
      "execution_count": null,
      "metadata": {
        "colab": {
          "base_uri": "https://localhost:8080/"
        },
        "id": "WB77GenWXQh6",
        "outputId": "7ff5afa8-345e-4dd2-c144-cc19e439992e"
      },
      "outputs": [
        {
          "output_type": "execute_result",
          "data": {
            "text/plain": [
              "array([ 6,  6,  6,  6,  6,  6, 18, 18, 18, 18, 18, 18, 30, 30, 30, 30, 30,\n",
              "       30, 42, 42, 42, 42, 42, 42])"
            ]
          },
          "metadata": {},
          "execution_count": 23
        }
      ],
      "source": [
        "mData['capture'].values"
      ]
    },
    {
      "cell_type": "code",
      "execution_count": 58,
      "metadata": {
        "colab": {
          "base_uri": "https://localhost:8080/"
        },
        "id": "oFBlOD_zXQh6",
        "outputId": "f61523d0-2089-494e-fb25-5d0715e08a3c"
      },
      "outputs": [
        {
          "output_type": "stream",
          "name": "stdout",
          "text": [
            "<class 'numpy.ndarray'>\n"
          ]
        }
      ],
      "source": [
        "n_pop = N * 4\n",
        "np.random.seed(10)\n",
        "sigma_t = 3.\n",
        "prior_mean = mData['capture'].values\n",
        "print(type(prior_mean))\n",
        "# N = 5\n",
        "pop = [np.asanyarray([prior_mean[i] + sigma_t * np.random.randn(1) for i in range(0, N)]).reshape(-1) for _ in range(0, n_pop)]\n",
        "# np.array(prior_mean).shape\n",
        "# pop"
      ]
    },
    {
      "cell_type": "code",
      "execution_count": 59,
      "metadata": {
        "colab": {
          "base_uri": "https://localhost:8080/"
        },
        "id": "hWhmfbuOXQh7",
        "outputId": "cdf12206-53d3-49ca-c15c-513468bc717f"
      },
      "outputs": [
        {
          "output_type": "stream",
          "name": "stdout",
          "text": [
            "[-1.93594334 -1.39478564 -0.89634156 -0.71017619 -0.93940557 -0.77103595\n",
            " -0.47088842 -0.86558206 -0.19804627 -0.87073691 -0.17979802 -0.86683746\n",
            "  0.38915472  1.50107146  1.46597161  1.6250417   1.84803776  0.59951723\n",
            "  0.88647629  0.82623332  0.34637036  0.60695317 -0.14560933  0.15035911]\n"
          ]
        }
      ],
      "source": [
        "y = Y[:,1]\n",
        "print(y)"
      ]
    },
    {
      "cell_type": "code",
      "execution_count": 60,
      "metadata": {
        "id": "OMT4wZGTXQh8"
      },
      "outputs": [],
      "source": [
        "from sklearn.linear_model import LinearRegression\n",
        "from sklearn.preprocessing import PolynomialFeatures\n",
        "# from sklearn.preprocessing import SplineTransformer\n",
        "from sklearn.metrics import mean_squared_error\n",
        "from math import log\n",
        "\n",
        "def objectiveFunction(x):\n",
        "    x = x[:,None]\n",
        "    x_1 = x.reshape((-1, 1))\n",
        "    x_2 = PolynomialFeatures(degree=2, include_bias=False).fit_transform(x)\n",
        "    x_3 = PolynomialFeatures(degree=3, include_bias=False).fit_transform(x)\n",
        "    \n",
        "#     x_ = SplineTransformer(degree=2, n_knots=3).fit_transform(x)\n",
        "    \n",
        "    yhatforAll1 = pd.DataFrame()\n",
        "    yhatforAll2 = pd.DataFrame()\n",
        "    yhatforAll3 = pd.DataFrame()\n",
        "    \n",
        "    for i in range(0, D):\n",
        "        y = Y[:,i]\n",
        "        model1 = LinearRegression().fit(x_1, y)\n",
        "        model2 = LinearRegression().fit(x_2, y)\n",
        "        model3 = LinearRegression().fit(x_3, y)\n",
        "#         num_params = len(model.coef_) + 1\n",
        "#         print('Number of parameters: %d' % (num_params))\n",
        "#         print(model.coef_)\n",
        "\n",
        "        # predict the training set\n",
        "        yhat1 = model1.predict(x_1)\n",
        "        yhat2 = model2.predict(x_2)\n",
        "        yhat3 = model3.predict(x_3)\n",
        "        \n",
        "        if i == 0:\n",
        "          yhatforAll1 = pd.DataFrame(yhat1)\n",
        "          yhatforAll2 = pd.DataFrame(yhat2)\n",
        "          yhatforAll3 = pd.DataFrame(yhat3)\n",
        "          #print(yhatforAll1)\n",
        "        else:\n",
        "          yhatforAll1 = pd.concat([yhatforAll1,pd.DataFrame(yhat1)], axis = 1)\n",
        "          yhatforAll2 = pd.concat([yhatforAll2,pd.DataFrame(yhat2)], axis = 1)\n",
        "          yhatforAll3 = pd.concat([yhatforAll3,pd.DataFrame(yhat3)], axis = 1)\n",
        "        \n",
        "#     print('MSE: %.3f' % mse)\n",
        "    del model1, model2, model3, y, yhat1, yhat2, yhat3, x, x_1, x_2, x_3\n",
        "    \n",
        "    arr = np.arange(D)\n",
        "    yhatforAll1 = np.square(pd.DataFrame(data=yhatforAll1.values, columns=arr))\n",
        "    yhatforAll2 = np.square(pd.DataFrame(data=yhatforAll2.values, columns=arr))\n",
        "    yhatforAll3 = np.square(pd.DataFrame(data=yhatforAll3.values, columns=arr))\n",
        "    \n",
        "    yhatforAll1 = (yhatforAll1).sum(axis = 0)\n",
        "    yhatforAll2 = (yhatforAll2).sum(axis = 0)\n",
        "    yhatforAll3 = (yhatforAll3).sum(axis = 0)\n",
        "    \n",
        "#     print(\"yHATforALl\", yhatforAll1)\n",
        "#     print(sumsqr_new)\n",
        "    \n",
        "    resid1 = sumsqr_new - np.transpose(yhatforAll1)\n",
        "    resid2 = sumsqr_new - np.transpose(yhatforAll2)\n",
        "    resid3 = sumsqr_new - np.transpose(yhatforAll3)\n",
        "    #res = resid1\n",
        "#     print(\"RESIDUAL1\")\n",
        "#     print(resid1[0])\n",
        "#     print(\"yhatforAll1\", np.square(yhatforAll1))\n",
        "#     print(\"sumsqr_new\", sumsqr_new)\n",
        "#     print(\"SHAPE\", Y.shape)\n",
        "    \n",
        "    bic1 = findBIC(resid1.abs(),1,N)\n",
        "    bic2 = findBIC(resid2.abs(),2,N)\n",
        "    bic3 = findBIC(resid3.abs(),3,N)\n",
        "    \n",
        "    bic1_a = np.array(bic1)\n",
        "    bic2_a = np.array(bic2)\n",
        "    bic3_a = np.array(bic3)\n",
        "\n",
        "    minBic = np.minimum(bic1_a,bic2_a)\n",
        "    minBic = np.minimum(bic3_a, minBic)\n",
        "    \n",
        "    bicMIN = pd.DataFrame(minBic)\n",
        "    cost = bicMIN.sum(axis=0)\n",
        "    #minC = np.minimum(cost)\n",
        "    #print (\"COST\", cost)\n",
        "    return cost[0]\n",
        "\n",
        "# tournament selection\n",
        "def selection(pop, scores, k=3):\n",
        "    # first random selection\n",
        "    selection_ix = randint(len(pop))\n",
        "    for ix in randint(0, len(pop), k-1):\n",
        "        # check if better (e.g. perform a tournament)\n",
        "        if scores[ix] < scores[selection_ix]:\n",
        "            selection_ix = ix\n",
        "    return pop[selection_ix]"
      ]
    },
    {
      "cell_type": "code",
      "source": [
        "best_eval = 0"
      ],
      "metadata": {
        "id": "E7lEliWAAj-S"
      },
      "execution_count": 62,
      "outputs": []
    },
    {
      "cell_type": "code",
      "execution_count": 65,
      "metadata": {
        "colab": {
          "base_uri": "https://localhost:8080/",
          "height": 745
        },
        "id": "Ok7Ge6bIXQh-",
        "outputId": "91b08481-76bf-4703-990f-544f323e7545"
      },
      "outputs": [
        {
          "output_type": "stream",
          "name": "stdout",
          "text": [
            "469.9216392589731\n",
            ">0, new best_eval = 46.112\n",
            "46.11157033328348\n",
            ">1, new best_eval = 46.112\n",
            "46.11157033328348\n",
            ">2, new best_eval = 22.434\n",
            "22.434015141334857\n",
            ">3, new best_eval = 0.525\n",
            "0.5254537677866509\n",
            ">4, new best_eval = 0.525\n",
            "0.5254537677866509\n",
            ">5, new best_eval = 0.525\n",
            "0.5254537677866509\n",
            ">6, new best_eval = 0.525\n",
            "0.5254537677866509\n",
            ">7, new best_eval = 0.525\n",
            "0.5254537677866509\n",
            ">8, new best_eval = 0.525\n",
            "0.5254537677866509\n",
            ">9, new best_eval = 0.525\n"
          ]
        },
        {
          "output_type": "error",
          "ename": "KeyboardInterrupt",
          "evalue": "ignored",
          "traceback": [
            "\u001b[0;31m---------------------------------------------------------------------------\u001b[0m",
            "\u001b[0;31mKeyboardInterrupt\u001b[0m                         Traceback (most recent call last)",
            "\u001b[0;32m<ipython-input-65-25eb54295c40>\u001b[0m in \u001b[0;36m<cell line: 4>\u001b[0;34m()\u001b[0m\n\u001b[1;32m      3\u001b[0m \u001b[0;31m# print(best_eval)\u001b[0m\u001b[0;34m\u001b[0m\u001b[0;34m\u001b[0m\u001b[0m\n\u001b[1;32m      4\u001b[0m \u001b[0;32mfor\u001b[0m \u001b[0mgen\u001b[0m \u001b[0;32min\u001b[0m \u001b[0mrange\u001b[0m \u001b[0;34m(\u001b[0m\u001b[0;36m0\u001b[0m\u001b[0;34m,\u001b[0m \u001b[0mn_iter\u001b[0m\u001b[0;34m)\u001b[0m\u001b[0;34m:\u001b[0m\u001b[0;34m\u001b[0m\u001b[0;34m\u001b[0m\u001b[0m\n\u001b[0;32m----> 5\u001b[0;31m     \u001b[0mscores\u001b[0m \u001b[0;34m=\u001b[0m \u001b[0;34m[\u001b[0m\u001b[0mobjectiveFunction\u001b[0m\u001b[0;34m(\u001b[0m\u001b[0mc\u001b[0m\u001b[0;34m)\u001b[0m \u001b[0;32mfor\u001b[0m \u001b[0mc\u001b[0m \u001b[0;32min\u001b[0m \u001b[0mpop\u001b[0m\u001b[0;34m]\u001b[0m\u001b[0;34m\u001b[0m\u001b[0;34m\u001b[0m\u001b[0m\n\u001b[0m\u001b[1;32m      6\u001b[0m     \u001b[0mscores\u001b[0m \u001b[0;34m=\u001b[0m \u001b[0mnp\u001b[0m\u001b[0;34m.\u001b[0m\u001b[0mabsolute\u001b[0m\u001b[0;34m(\u001b[0m\u001b[0mscores\u001b[0m\u001b[0;34m)\u001b[0m\u001b[0;34m\u001b[0m\u001b[0;34m\u001b[0m\u001b[0m\n\u001b[1;32m      7\u001b[0m     \u001b[0;31m#print(scores.shape())\u001b[0m\u001b[0;34m\u001b[0m\u001b[0;34m\u001b[0m\u001b[0m\n",
            "\u001b[0;32m<ipython-input-65-25eb54295c40>\u001b[0m in \u001b[0;36m<listcomp>\u001b[0;34m(.0)\u001b[0m\n\u001b[1;32m      3\u001b[0m \u001b[0;31m# print(best_eval)\u001b[0m\u001b[0;34m\u001b[0m\u001b[0;34m\u001b[0m\u001b[0m\n\u001b[1;32m      4\u001b[0m \u001b[0;32mfor\u001b[0m \u001b[0mgen\u001b[0m \u001b[0;32min\u001b[0m \u001b[0mrange\u001b[0m \u001b[0;34m(\u001b[0m\u001b[0;36m0\u001b[0m\u001b[0;34m,\u001b[0m \u001b[0mn_iter\u001b[0m\u001b[0;34m)\u001b[0m\u001b[0;34m:\u001b[0m\u001b[0;34m\u001b[0m\u001b[0;34m\u001b[0m\u001b[0m\n\u001b[0;32m----> 5\u001b[0;31m     \u001b[0mscores\u001b[0m \u001b[0;34m=\u001b[0m \u001b[0;34m[\u001b[0m\u001b[0mobjectiveFunction\u001b[0m\u001b[0;34m(\u001b[0m\u001b[0mc\u001b[0m\u001b[0;34m)\u001b[0m \u001b[0;32mfor\u001b[0m \u001b[0mc\u001b[0m \u001b[0;32min\u001b[0m \u001b[0mpop\u001b[0m\u001b[0;34m]\u001b[0m\u001b[0;34m\u001b[0m\u001b[0;34m\u001b[0m\u001b[0m\n\u001b[0m\u001b[1;32m      6\u001b[0m     \u001b[0mscores\u001b[0m \u001b[0;34m=\u001b[0m \u001b[0mnp\u001b[0m\u001b[0;34m.\u001b[0m\u001b[0mabsolute\u001b[0m\u001b[0;34m(\u001b[0m\u001b[0mscores\u001b[0m\u001b[0;34m)\u001b[0m\u001b[0;34m\u001b[0m\u001b[0;34m\u001b[0m\u001b[0m\n\u001b[1;32m      7\u001b[0m     \u001b[0;31m#print(scores.shape())\u001b[0m\u001b[0;34m\u001b[0m\u001b[0;34m\u001b[0m\u001b[0m\n",
            "\u001b[0;32m<ipython-input-60-ddc3e522c515>\u001b[0m in \u001b[0;36mobjectiveFunction\u001b[0;34m(x)\u001b[0m\n\u001b[1;32m     39\u001b[0m           \u001b[0myhatforAll1\u001b[0m \u001b[0;34m=\u001b[0m \u001b[0mpd\u001b[0m\u001b[0;34m.\u001b[0m\u001b[0mconcat\u001b[0m\u001b[0;34m(\u001b[0m\u001b[0;34m[\u001b[0m\u001b[0myhatforAll1\u001b[0m\u001b[0;34m,\u001b[0m\u001b[0mpd\u001b[0m\u001b[0;34m.\u001b[0m\u001b[0mDataFrame\u001b[0m\u001b[0;34m(\u001b[0m\u001b[0myhat1\u001b[0m\u001b[0;34m)\u001b[0m\u001b[0;34m]\u001b[0m\u001b[0;34m,\u001b[0m \u001b[0maxis\u001b[0m \u001b[0;34m=\u001b[0m \u001b[0;36m1\u001b[0m\u001b[0;34m)\u001b[0m\u001b[0;34m\u001b[0m\u001b[0;34m\u001b[0m\u001b[0m\n\u001b[1;32m     40\u001b[0m           \u001b[0myhatforAll2\u001b[0m \u001b[0;34m=\u001b[0m \u001b[0mpd\u001b[0m\u001b[0;34m.\u001b[0m\u001b[0mconcat\u001b[0m\u001b[0;34m(\u001b[0m\u001b[0;34m[\u001b[0m\u001b[0myhatforAll2\u001b[0m\u001b[0;34m,\u001b[0m\u001b[0mpd\u001b[0m\u001b[0;34m.\u001b[0m\u001b[0mDataFrame\u001b[0m\u001b[0;34m(\u001b[0m\u001b[0myhat2\u001b[0m\u001b[0;34m)\u001b[0m\u001b[0;34m]\u001b[0m\u001b[0;34m,\u001b[0m \u001b[0maxis\u001b[0m \u001b[0;34m=\u001b[0m \u001b[0;36m1\u001b[0m\u001b[0;34m)\u001b[0m\u001b[0;34m\u001b[0m\u001b[0;34m\u001b[0m\u001b[0m\n\u001b[0;32m---> 41\u001b[0;31m           \u001b[0myhatforAll3\u001b[0m \u001b[0;34m=\u001b[0m \u001b[0mpd\u001b[0m\u001b[0;34m.\u001b[0m\u001b[0mconcat\u001b[0m\u001b[0;34m(\u001b[0m\u001b[0;34m[\u001b[0m\u001b[0myhatforAll3\u001b[0m\u001b[0;34m,\u001b[0m\u001b[0mpd\u001b[0m\u001b[0;34m.\u001b[0m\u001b[0mDataFrame\u001b[0m\u001b[0;34m(\u001b[0m\u001b[0myhat3\u001b[0m\u001b[0;34m)\u001b[0m\u001b[0;34m]\u001b[0m\u001b[0;34m,\u001b[0m \u001b[0maxis\u001b[0m \u001b[0;34m=\u001b[0m \u001b[0;36m1\u001b[0m\u001b[0;34m)\u001b[0m\u001b[0;34m\u001b[0m\u001b[0;34m\u001b[0m\u001b[0m\n\u001b[0m\u001b[1;32m     42\u001b[0m \u001b[0;34m\u001b[0m\u001b[0m\n\u001b[1;32m     43\u001b[0m \u001b[0;31m#     print('MSE: %.3f' % mse)\u001b[0m\u001b[0;34m\u001b[0m\u001b[0;34m\u001b[0m\u001b[0m\n",
            "\u001b[0;32m/usr/local/lib/python3.9/dist-packages/pandas/util/_decorators.py\u001b[0m in \u001b[0;36mwrapper\u001b[0;34m(*args, **kwargs)\u001b[0m\n\u001b[1;32m    329\u001b[0m                     \u001b[0mstacklevel\u001b[0m\u001b[0;34m=\u001b[0m\u001b[0mfind_stack_level\u001b[0m\u001b[0;34m(\u001b[0m\u001b[0;34m)\u001b[0m\u001b[0;34m,\u001b[0m\u001b[0;34m\u001b[0m\u001b[0;34m\u001b[0m\u001b[0m\n\u001b[1;32m    330\u001b[0m                 )\n\u001b[0;32m--> 331\u001b[0;31m             \u001b[0;32mreturn\u001b[0m \u001b[0mfunc\u001b[0m\u001b[0;34m(\u001b[0m\u001b[0;34m*\u001b[0m\u001b[0margs\u001b[0m\u001b[0;34m,\u001b[0m \u001b[0;34m**\u001b[0m\u001b[0mkwargs\u001b[0m\u001b[0;34m)\u001b[0m\u001b[0;34m\u001b[0m\u001b[0;34m\u001b[0m\u001b[0m\n\u001b[0m\u001b[1;32m    332\u001b[0m \u001b[0;34m\u001b[0m\u001b[0m\n\u001b[1;32m    333\u001b[0m         \u001b[0;31m# error: \"Callable[[VarArg(Any), KwArg(Any)], Any]\" has no\u001b[0m\u001b[0;34m\u001b[0m\u001b[0;34m\u001b[0m\u001b[0m\n",
            "\u001b[0;32m/usr/local/lib/python3.9/dist-packages/pandas/core/reshape/concat.py\u001b[0m in \u001b[0;36mconcat\u001b[0;34m(objs, axis, join, ignore_index, keys, levels, names, verify_integrity, sort, copy)\u001b[0m\n\u001b[1;32m    379\u001b[0m     )\n\u001b[1;32m    380\u001b[0m \u001b[0;34m\u001b[0m\u001b[0m\n\u001b[0;32m--> 381\u001b[0;31m     \u001b[0;32mreturn\u001b[0m \u001b[0mop\u001b[0m\u001b[0;34m.\u001b[0m\u001b[0mget_result\u001b[0m\u001b[0;34m(\u001b[0m\u001b[0;34m)\u001b[0m\u001b[0;34m\u001b[0m\u001b[0;34m\u001b[0m\u001b[0m\n\u001b[0m\u001b[1;32m    382\u001b[0m \u001b[0;34m\u001b[0m\u001b[0m\n\u001b[1;32m    383\u001b[0m \u001b[0;34m\u001b[0m\u001b[0m\n",
            "\u001b[0;32m/usr/local/lib/python3.9/dist-packages/pandas/core/reshape/concat.py\u001b[0m in \u001b[0;36mget_result\u001b[0;34m(self)\u001b[0m\n\u001b[1;32m    614\u001b[0m                 \u001b[0mmgrs_indexers\u001b[0m\u001b[0;34m.\u001b[0m\u001b[0mappend\u001b[0m\u001b[0;34m(\u001b[0m\u001b[0;34m(\u001b[0m\u001b[0mobj\u001b[0m\u001b[0;34m.\u001b[0m\u001b[0m_mgr\u001b[0m\u001b[0;34m,\u001b[0m \u001b[0mindexers\u001b[0m\u001b[0;34m)\u001b[0m\u001b[0;34m)\u001b[0m\u001b[0;34m\u001b[0m\u001b[0;34m\u001b[0m\u001b[0m\n\u001b[1;32m    615\u001b[0m \u001b[0;34m\u001b[0m\u001b[0m\n\u001b[0;32m--> 616\u001b[0;31m             new_data = concatenate_managers(\n\u001b[0m\u001b[1;32m    617\u001b[0m                 \u001b[0mmgrs_indexers\u001b[0m\u001b[0;34m,\u001b[0m \u001b[0mself\u001b[0m\u001b[0;34m.\u001b[0m\u001b[0mnew_axes\u001b[0m\u001b[0;34m,\u001b[0m \u001b[0mconcat_axis\u001b[0m\u001b[0;34m=\u001b[0m\u001b[0mself\u001b[0m\u001b[0;34m.\u001b[0m\u001b[0mbm_axis\u001b[0m\u001b[0;34m,\u001b[0m \u001b[0mcopy\u001b[0m\u001b[0;34m=\u001b[0m\u001b[0mself\u001b[0m\u001b[0;34m.\u001b[0m\u001b[0mcopy\u001b[0m\u001b[0;34m\u001b[0m\u001b[0;34m\u001b[0m\u001b[0m\n\u001b[1;32m    618\u001b[0m             )\n",
            "\u001b[0;32m/usr/local/lib/python3.9/dist-packages/pandas/core/internals/concat.py\u001b[0m in \u001b[0;36mconcatenate_managers\u001b[0;34m(mgrs_indexers, axes, concat_axis, copy)\u001b[0m\n\u001b[1;32m    207\u001b[0m         \u001b[0mblk\u001b[0m \u001b[0;34m=\u001b[0m \u001b[0munit\u001b[0m\u001b[0;34m.\u001b[0m\u001b[0mblock\u001b[0m\u001b[0;34m\u001b[0m\u001b[0;34m\u001b[0m\u001b[0m\n\u001b[1;32m    208\u001b[0m \u001b[0;34m\u001b[0m\u001b[0m\n\u001b[0;32m--> 209\u001b[0;31m         \u001b[0;32mif\u001b[0m \u001b[0mlen\u001b[0m\u001b[0;34m(\u001b[0m\u001b[0mjoin_units\u001b[0m\u001b[0;34m)\u001b[0m \u001b[0;34m==\u001b[0m \u001b[0;36m1\u001b[0m \u001b[0;32mand\u001b[0m \u001b[0;32mnot\u001b[0m \u001b[0mjoin_units\u001b[0m\u001b[0;34m[\u001b[0m\u001b[0;36m0\u001b[0m\u001b[0;34m]\u001b[0m\u001b[0;34m.\u001b[0m\u001b[0mindexers\u001b[0m\u001b[0;34m:\u001b[0m\u001b[0;34m\u001b[0m\u001b[0;34m\u001b[0m\u001b[0m\n\u001b[0m\u001b[1;32m    210\u001b[0m             \u001b[0mvalues\u001b[0m \u001b[0;34m=\u001b[0m \u001b[0mblk\u001b[0m\u001b[0;34m.\u001b[0m\u001b[0mvalues\u001b[0m\u001b[0;34m\u001b[0m\u001b[0;34m\u001b[0m\u001b[0m\n\u001b[1;32m    211\u001b[0m             \u001b[0;32mif\u001b[0m \u001b[0mcopy\u001b[0m\u001b[0;34m:\u001b[0m\u001b[0;34m\u001b[0m\u001b[0;34m\u001b[0m\u001b[0m\n",
            "\u001b[0;31mKeyboardInterrupt\u001b[0m: "
          ]
        }
      ],
      "source": [
        "n_iter = 200\n",
        "best, best_eval = 0, objectiveFunction(pop[0])\n",
        "# print(best_eval)\n",
        "for gen in range (0, n_iter):\n",
        "    scores = [objectiveFunction(c) for c in pop]\n",
        "    scores = np.absolute(scores)\n",
        "    #print(scores.shape())\n",
        "    #print(scores)\n",
        "    #print(\"SCORES\",scores[0][0])\n",
        "    print(best_eval)\n",
        "    for j in range(0,n_pop):\n",
        "        if scores[j] < best_eval:\n",
        "            best, best_eval = pop[j], scores[j]\n",
        "#     print(\">%d, new best f(%s) = %.3f\" % (gen,  best, best_eval))\n",
        "    print(\">%d, new best_eval = %.3f\" % (gen, best_eval))\n",
        "    \n",
        "    # select parents\n",
        "    selected = [selection(pop, scores) for _ in range(0,n_pop)]\n",
        "#     print(\"Selected\")\n",
        "#     print(len(selected))\n",
        "#     print(selected)\n",
        "    # create the next generation\n",
        "    children = list()\n",
        "    for i in range(0, n_pop, 2):\n",
        "        # get selected parents in pairs\n",
        "        p1, p2 = selected[i], selected[i]\n",
        "        # crossover and mutation\n",
        "        for c in crossover(p1, p2, r_cross=0.95):\n",
        "#             # mutation\n",
        "            mutation(c, r_mut=0.1)\n",
        "#             # store for next generation\n",
        "            children.append(c)\n",
        "#     print(len(children))\n",
        "#     # replace population\n",
        "    pop = children\n",
        "#     return [best, best_eval]\n",
        "print(best, best_eval)"
      ]
    },
    {
      "cell_type": "code",
      "source": [
        "#sumsqr_new, sqrsum_df, sumsqr, sqrsum = sqrsum_sumsqr(D,Y)\n",
        "sumsqr_new"
      ],
      "metadata": {
        "colab": {
          "base_uri": "https://localhost:8080/",
          "height": 423
        },
        "id": "GV6aXbHpYTFc",
        "outputId": "409eb2f0-ea25-4692-834e-a8581f8b8425"
      },
      "execution_count": null,
      "outputs": [
        {
          "output_type": "execute_result",
          "data": {
            "text/plain": [
              "       0\n",
              "0   24.0\n",
              "1   24.0\n",
              "2   24.0\n",
              "3   24.0\n",
              "4   24.0\n",
              "..   ...\n",
              "95  24.0\n",
              "96  24.0\n",
              "97  24.0\n",
              "98  24.0\n",
              "99  24.0\n",
              "\n",
              "[100 rows x 1 columns]"
            ],
            "text/html": [
              "\n",
              "  <div id=\"df-2f5240c7-d8c3-4672-b15a-c110ad6b3371\">\n",
              "    <div class=\"colab-df-container\">\n",
              "      <div>\n",
              "<style scoped>\n",
              "    .dataframe tbody tr th:only-of-type {\n",
              "        vertical-align: middle;\n",
              "    }\n",
              "\n",
              "    .dataframe tbody tr th {\n",
              "        vertical-align: top;\n",
              "    }\n",
              "\n",
              "    .dataframe thead th {\n",
              "        text-align: right;\n",
              "    }\n",
              "</style>\n",
              "<table border=\"1\" class=\"dataframe\">\n",
              "  <thead>\n",
              "    <tr style=\"text-align: right;\">\n",
              "      <th></th>\n",
              "      <th>0</th>\n",
              "    </tr>\n",
              "  </thead>\n",
              "  <tbody>\n",
              "    <tr>\n",
              "      <th>0</th>\n",
              "      <td>24.0</td>\n",
              "    </tr>\n",
              "    <tr>\n",
              "      <th>1</th>\n",
              "      <td>24.0</td>\n",
              "    </tr>\n",
              "    <tr>\n",
              "      <th>2</th>\n",
              "      <td>24.0</td>\n",
              "    </tr>\n",
              "    <tr>\n",
              "      <th>3</th>\n",
              "      <td>24.0</td>\n",
              "    </tr>\n",
              "    <tr>\n",
              "      <th>4</th>\n",
              "      <td>24.0</td>\n",
              "    </tr>\n",
              "    <tr>\n",
              "      <th>...</th>\n",
              "      <td>...</td>\n",
              "    </tr>\n",
              "    <tr>\n",
              "      <th>95</th>\n",
              "      <td>24.0</td>\n",
              "    </tr>\n",
              "    <tr>\n",
              "      <th>96</th>\n",
              "      <td>24.0</td>\n",
              "    </tr>\n",
              "    <tr>\n",
              "      <th>97</th>\n",
              "      <td>24.0</td>\n",
              "    </tr>\n",
              "    <tr>\n",
              "      <th>98</th>\n",
              "      <td>24.0</td>\n",
              "    </tr>\n",
              "    <tr>\n",
              "      <th>99</th>\n",
              "      <td>24.0</td>\n",
              "    </tr>\n",
              "  </tbody>\n",
              "</table>\n",
              "<p>100 rows × 1 columns</p>\n",
              "</div>\n",
              "      <button class=\"colab-df-convert\" onclick=\"convertToInteractive('df-2f5240c7-d8c3-4672-b15a-c110ad6b3371')\"\n",
              "              title=\"Convert this dataframe to an interactive table.\"\n",
              "              style=\"display:none;\">\n",
              "        \n",
              "  <svg xmlns=\"http://www.w3.org/2000/svg\" height=\"24px\"viewBox=\"0 0 24 24\"\n",
              "       width=\"24px\">\n",
              "    <path d=\"M0 0h24v24H0V0z\" fill=\"none\"/>\n",
              "    <path d=\"M18.56 5.44l.94 2.06.94-2.06 2.06-.94-2.06-.94-.94-2.06-.94 2.06-2.06.94zm-11 1L8.5 8.5l.94-2.06 2.06-.94-2.06-.94L8.5 2.5l-.94 2.06-2.06.94zm10 10l.94 2.06.94-2.06 2.06-.94-2.06-.94-.94-2.06-.94 2.06-2.06.94z\"/><path d=\"M17.41 7.96l-1.37-1.37c-.4-.4-.92-.59-1.43-.59-.52 0-1.04.2-1.43.59L10.3 9.45l-7.72 7.72c-.78.78-.78 2.05 0 2.83L4 21.41c.39.39.9.59 1.41.59.51 0 1.02-.2 1.41-.59l7.78-7.78 2.81-2.81c.8-.78.8-2.07 0-2.86zM5.41 20L4 18.59l7.72-7.72 1.47 1.35L5.41 20z\"/>\n",
              "  </svg>\n",
              "      </button>\n",
              "      \n",
              "  <style>\n",
              "    .colab-df-container {\n",
              "      display:flex;\n",
              "      flex-wrap:wrap;\n",
              "      gap: 12px;\n",
              "    }\n",
              "\n",
              "    .colab-df-convert {\n",
              "      background-color: #E8F0FE;\n",
              "      border: none;\n",
              "      border-radius: 50%;\n",
              "      cursor: pointer;\n",
              "      display: none;\n",
              "      fill: #1967D2;\n",
              "      height: 32px;\n",
              "      padding: 0 0 0 0;\n",
              "      width: 32px;\n",
              "    }\n",
              "\n",
              "    .colab-df-convert:hover {\n",
              "      background-color: #E2EBFA;\n",
              "      box-shadow: 0px 1px 2px rgba(60, 64, 67, 0.3), 0px 1px 3px 1px rgba(60, 64, 67, 0.15);\n",
              "      fill: #174EA6;\n",
              "    }\n",
              "\n",
              "    [theme=dark] .colab-df-convert {\n",
              "      background-color: #3B4455;\n",
              "      fill: #D2E3FC;\n",
              "    }\n",
              "\n",
              "    [theme=dark] .colab-df-convert:hover {\n",
              "      background-color: #434B5C;\n",
              "      box-shadow: 0px 1px 3px 1px rgba(0, 0, 0, 0.15);\n",
              "      filter: drop-shadow(0px 1px 2px rgba(0, 0, 0, 0.3));\n",
              "      fill: #FFFFFF;\n",
              "    }\n",
              "  </style>\n",
              "\n",
              "      <script>\n",
              "        const buttonEl =\n",
              "          document.querySelector('#df-2f5240c7-d8c3-4672-b15a-c110ad6b3371 button.colab-df-convert');\n",
              "        buttonEl.style.display =\n",
              "          google.colab.kernel.accessAllowed ? 'block' : 'none';\n",
              "\n",
              "        async function convertToInteractive(key) {\n",
              "          const element = document.querySelector('#df-2f5240c7-d8c3-4672-b15a-c110ad6b3371');\n",
              "          const dataTable =\n",
              "            await google.colab.kernel.invokeFunction('convertToInteractive',\n",
              "                                                     [key], {});\n",
              "          if (!dataTable) return;\n",
              "\n",
              "          const docLinkHtml = 'Like what you see? Visit the ' +\n",
              "            '<a target=\"_blank\" href=https://colab.research.google.com/notebooks/data_table.ipynb>data table notebook</a>'\n",
              "            + ' to learn more about interactive tables.';\n",
              "          element.innerHTML = '';\n",
              "          dataTable['output_type'] = 'display_data';\n",
              "          await google.colab.output.renderOutput(dataTable, element);\n",
              "          const docLink = document.createElement('div');\n",
              "          docLink.innerHTML = docLinkHtml;\n",
              "          element.appendChild(docLink);\n",
              "        }\n",
              "      </script>\n",
              "    </div>\n",
              "  </div>\n",
              "  "
            ]
          },
          "metadata": {},
          "execution_count": 28
        }
      ]
    },
    {
      "cell_type": "code",
      "execution_count": null,
      "metadata": {
        "id": "fhTouPv8XQiA"
      },
      "outputs": [],
      "source": [
        "def sqrsum_sumsqr(ntest, data):\n",
        "    data = np.transpose(data)\n",
        "    data = pd.DataFrame(data)\n",
        "    #print(data.shape)\n",
        "    squared = np.square(data)\n",
        "    sumsqr = squared.sum(axis = 1)\n",
        "    #print(squared, \"_\", sumsqr)\n",
        "    colMeans = np.mean(data, axis = 1)\n",
        "    sqrsum = np.square(colMeans)\n",
        "#     print(sqrsum)\n",
        "#     print(sumsqr)\n",
        "    #sumsqr_df = pd.DataFrame(sumsqr)\n",
        "    sqrsum_df = pd.DataFrame(sqrsum)\n",
        "    sumsqr_df = pd.DataFrame(sumsqr)\n",
        "    \n",
        "    cellNumber = len(data)\n",
        "    sqrsum_df *=cellNumber\n",
        "    #print(sqrsum_df)\n",
        "    \n",
        "    ntest = ntest\n",
        "    #print(ntest)\n",
        "    \n",
        "    sumsqr_new = pd.DataFrame()\n",
        "    sqrsum_new = pd.DataFrame()\n",
        "    \n",
        "#     for i in range(int(ntest)):\n",
        "#         sumsqr_new = pd.concat([sumsqr_new,sumsqr], axis = 1)\n",
        "#     #print(sumsqr_new)\n",
        "    \n",
        "#     for i in range(int(ntest)):\n",
        "#         sqrsum_new = pd.concat([sqrsum_new,sqrsum_df], axis = 1)\n",
        "#     #print(sqrsum_new)\n",
        "#     arr = np.arange(D)\n",
        "#     sumsqr_new = pd.DataFrame(data=sumsqr_new.values, columns=arr)\n",
        "    \n",
        "    return sumsqr_df, sqrsum_df, sumsqr, sqrsum"
      ]
    },
    {
      "cell_type": "code",
      "execution_count": null,
      "metadata": {
        "id": "4m8y2yPrXQiB"
      },
      "outputs": [],
      "source": [
        "\n",
        "def findlog(x):\n",
        "    print(x.loc[0])\n",
        "    if x[0] > 0:\n",
        "        log = math.log(x)\n",
        "    elif x[0] < 0:\n",
        "        log = math.log(x*-1)*-1\n",
        "    elif x[0] == 0:\n",
        "        log = 0\n",
        "    return log"
      ]
    },
    {
      "cell_type": "code",
      "execution_count": null,
      "metadata": {
        "id": "hxQ1DWY3XQiB"
      },
      "outputs": [],
      "source": [
        "import math\n",
        "def findBIC(res, k, n):   \n",
        "      w = np.ones(n)\n",
        "      \n",
        "      #reslog = math.log(i) for i in res\n",
        "#       ress = res.applymap(math.log10)\n",
        "#       print(ress)\n",
        "      #ress = res.apply(findlog)\n",
        "      #print(res)\n",
        "      ll = 0.5 * (np.sum(np.log(w)) - n * (math.log(2 * math.pi) + 1 - math.log(n)+np.log(res)))\n",
        "      #print(ll)\n",
        "      val = (k+2)*np.log(n)-2*ll\n",
        "      return(val)"
      ]
    },
    {
      "cell_type": "code",
      "execution_count": null,
      "metadata": {
        "id": "qAt1WaTxXQiC"
      },
      "outputs": [],
      "source": [
        "# crossover two parents to create two children\n",
        "def crossover(p1, p2, r_cross=0.9):\n",
        "    # children are copies of parents by default\n",
        "    c1, c2 = p1.copy(), p2.copy()\n",
        "#     print('Sumon')\n",
        "#     print(c1.shape)\n",
        "    # check for recombination\n",
        "    if rand() < r_cross:\n",
        "        # select crossover point that is not on the end of the string\n",
        "        pt = randint(1, len(p1)-2)\n",
        "        # perform crossover\n",
        "        c1 = np.concatenate( (p1[:pt], p2[pt:]), axis=None)\n",
        "        c2 = np.concatenate( (p2[:pt], p1[pt:]), axis=None)\n",
        "#         print(c1, c2)\n",
        "    return [c1, c2]\n",
        "\n",
        "# mutation operator\n",
        "def mutation(offSpring, r_mut=0.05):\n",
        "    sigma_mu = 2.\n",
        "    for i in range(0, len(offSpring)):\n",
        "        # check for a mutation\n",
        "        if rand() < r_mut:\n",
        "            offSpring[i] = offSpring[i] + sigma_mu * np.random.randn(1)"
      ]
    },
    {
      "cell_type": "code",
      "execution_count": 51,
      "metadata": {
        "colab": {
          "base_uri": "https://localhost:8080/"
        },
        "id": "mwtGXr-2XQiD",
        "outputId": "74fa0d88-1ce3-4561-94f8-26be6b843f50"
      },
      "outputs": [
        {
          "output_type": "execute_result",
          "data": {
            "text/plain": [
              "array([-3.24712481, 12.14591634, 11.08259704,  9.39610372,  9.43421185,\n",
              "        5.88440528, 10.48174344,  2.49617518, 11.66918545, 19.32667206,\n",
              "       27.42480949, 25.85393838, 33.7161695 , 34.69317251, 25.76544616,\n",
              "       25.82094843, 30.05092398, 22.72363111, 43.05866273, 48.54742048,\n",
              "       39.7921029 , 47.3544813 , 45.60039055, 38.33601483])"
            ]
          },
          "metadata": {},
          "execution_count": 51
        }
      ],
      "source": [
        "best"
      ]
    },
    {
      "cell_type": "code",
      "execution_count": null,
      "metadata": {
        "id": "d7nqlcTDXQiE",
        "outputId": "2ec6db24-c49e-4170-e209-b68f520bd9a8"
      },
      "outputs": [
        {
          "data": {
            "text/plain": [
              "array([ 4.63598023,  6.10089549,  7.01172426,  7.860765  ,  8.7336632 ,\n",
              "        9.86946463, 13.3454646 , 17.07957878, 18.33434457, 17.09002008,\n",
              "       22.72187375, 23.59910248, 31.21180272, 34.43961422, 36.64121839,\n",
              "       38.74146011, 39.88112065, 40.74403219, 40.80839185, 41.70714759,\n",
              "       41.52479029, 42.20835193, 40.25504868, 41.45776753])"
            ]
          },
          "execution_count": 17,
          "metadata": {},
          "output_type": "execute_result"
        }
      ],
      "source": [
        "Oldbest"
      ]
    },
    {
      "cell_type": "code",
      "execution_count": 54,
      "metadata": {
        "id": "tFv4EXFhXQiF"
      },
      "outputs": [],
      "source": [
        "best = [-3.24712481, 12.14591634, 11.08259704,  9.39610372,  9.43421185,  5.88440528,\n",
        " 10.48174344,  2.49617518, 11.66918545, 19.32667206, 27.42480949, 25.85393838,\n",
        " 33.7161695,  34.69317251, 25.76544616, 25.82094843, 30.05092398, 22.72363111,\n",
        " 43.05866273, 48.54742048, 39.7921029 , 47.3544813,  45.60039055, 38.33601483]"
      ]
    },
    {
      "cell_type": "code",
      "execution_count": null,
      "metadata": {
        "id": "DVlYByZuXQiG"
      },
      "outputs": [],
      "source": [
        "GrandPrixPseudotime = [ 2.86531809,  4.88945813,  5.96739786,  7.23224292,  7.29511602,  8.96443969,\n",
        " 12.1667392,  13.0697646,  15.31346009, 15.18385335, 20.8482835,  21.97757157,\n",
        " 28.11913182, 31.73585841, 33.19288584, 34.98632816, 35.81588204, 37.99144322,\n",
        " 38.5310093,  39.15410389, 39.92016282, 40.13889337, 40.14194657, 40.53709647]"
      ]
    },
    {
      "cell_type": "code",
      "execution_count": 66,
      "metadata": {
        "colab": {
          "base_uri": "https://localhost:8080/",
          "height": 408
        },
        "id": "l9-PU1biXQiG",
        "outputId": "c10c88d4-58ff-4cca-f09a-9de7b3a7ea21"
      },
      "outputs": [
        {
          "output_type": "display_data",
          "data": {
            "text/plain": [
              "<Figure size 1600x1200 with 2 Axes>"
            ],
            "image/png": "[encoded data removed]"
          },
          "metadata": {}
        }
      ],
      "source": [
        "from matplotlib import pyplot as plt\n",
        "# from utils import plot\n",
        "actual_capture_time = mData['capture.orig'].values\n",
        "fig, ax = plt.subplots(nrows=1, ncols=2, sharey=True, figsize=(16, 12))\n",
        "plt.subplot(2, 2, 1)\n",
        "plot('Evolutionary Algorithm', 'Pseudotime', 'Capture time', best, actual_capture_time, mData['capture'].values)\n",
        "plt.subplot(2, 2, 2)\n",
        "plot('GrandPrix', 'Pseudotime', 'Capture time', GrandPrixPseudotime, actual_capture_time, mData['capture'].values)\n",
        "plt.show()"
      ]
    },
    {
      "cell_type": "code",
      "execution_count": null,
      "metadata": {
        "id": "PnbDyzmmXQiH",
        "outputId": "fda99b2d-7a23-4c34-e117-149752d2b26f"
      },
      "outputs": [
        {
          "name": "stdout",
          "output_type": "stream",
          "text": [
            "SpearmanrResult(correlation=0.9913043478260868, pvalue=7.113899561244949e-21)\n"
          ]
        }
      ],
      "source": [
        "from scipy import stats\n",
        "print(stats.spearmanr(best, GrandPrixPseudotime))"
      ]
    },
    {
      "cell_type": "code",
      "execution_count": null,
      "metadata": {
        "id": "gArQ3A8pXQiI",
        "outputId": "4d0f279e-6c1b-47c3-93b1-e0f453a44ec3"
      },
      "outputs": [
        {
          "name": "stdout",
          "output_type": "stream",
          "text": [
            "   a  b  c  d  e  f\n",
            "0  2  4  4  2  3  4\n",
            "2\n",
            "-5\n",
            "4\n",
            "2\n",
            "3\n",
            "4\n",
            "a    0.693147\n",
            "b   -1.609438\n",
            "c    1.386294\n",
            "d    0.693147\n",
            "e    1.098612\n",
            "f    1.386294\n",
            "dtype: float64\n"
          ]
        }
      ],
      "source": [
        "df = pd.DataFrame(np.random.randint(1,5,(1,6)), columns=list('abcdef'))\n",
        "\n",
        "print(df)\n",
        "df.loc[0:,\"b\"] = -5\n",
        "df.shape\n",
        "tt = df.apply(findlog)\n",
        "print(tt)\n",
        "#tt = df.applymap(math.log10)\n"
      ]
    },
    {
      "cell_type": "code",
      "execution_count": null,
      "metadata": {
        "id": "70ArF3k0XQiI"
      },
      "outputs": [],
      "source": [
        "import matplotlib\n",
        "import matplotlib.pyplot as plt\n",
        "import matplotlib.lines as mlines\n",
        "import  numpy as np\n",
        "import  pandas as pd\n",
        "from collections import OrderedDict\n",
        "from cycler import cycler\n",
        "import warnings\n",
        "warnings.filterwarnings('ignore')\n",
        "\n",
        "matplotlib.style.use('ggplot')\n",
        "matplotlib.rcParams['axes.facecolor'] = 'white'\n",
        "matplotlib.rcParams['axes.edgecolor'] = 'black'\n",
        "# plt.rc('axes', color_cycle=['royalblue', 'orange', 'green', 'red', 'blueviolet', 'sienna', 'hotpink', 'gray', 'y', 'c'])\n",
        "# plt.rc('axes', color_cycle=['royalblue', 'green', 'sienna', 'c', 'orange', 'red', 'blueviolet', 'hotpink', 'gray', 'y'])\n",
        "plt.rc('axes', prop_cycle=cycler(color=['royalblue', 'green', 'sienna', 'c', 'orange', 'red', 'blueviolet', 'hotpink', 'gray', 'y']))\n",
        "# axes.prop_cycle : cycler('color', ['b', 'g', 'r', 'c', 'm', 'y', 'k'])\n",
        "\n",
        "\n",
        "def plot(title, xLabel, yLabel, xData, yData, cpt, xErr=None, **kwargs):\n",
        "    plt.rcParams['axes.facecolor'] = 'white'\n",
        "    plt.rcParams['axes.edgecolor'] = 'black'\n",
        "    # plt.figure(figsize=(8, 6))\n",
        "    plt.title( '%s' % ( title ) )\n",
        "    plt.xlabel('%s' % (xLabel), fontsize=16)\n",
        "    plt.ylabel('%s' % (yLabel), fontsize=16)\n",
        "\n",
        "    cellCapture = OrderedDict((('6', 'red'), ('18', 'green'), ('30', 'blue'), ('42', 'orange')))\n",
        "    color_map = [0 for i in range(len(cpt))]\n",
        "\n",
        "    for i in range(0, len(cpt)):\n",
        "        if cpt[i] == 6:\n",
        "            color_map[i] = 'red'\n",
        "        elif cpt[i] == 18:\n",
        "            color_map[i] = 'green'\n",
        "        elif cpt[i] == 30:\n",
        "            color_map[i] = 'blue'\n",
        "        else:\n",
        "            color_map[i] = 'orange'\n",
        "\n",
        "    if 'datset' in kwargs:\n",
        "        cellCapture = OrderedDict((('0', 'red'), ('2', 'green'), ('4', 'blue'), ('7', 'orange')))\n",
        "        for i in range(0, len(cpt)):\n",
        "            if cpt[i] == 1:\n",
        "                color_map[i] = 'red'\n",
        "            elif cpt[i] == 2:\n",
        "                color_map[i] = 'green'\n",
        "            elif cpt[i] == 3:\n",
        "                color_map[i] = 'blue'\n",
        "            else:\n",
        "                color_map[i] = 'orange'\n",
        "\n",
        "    # print(cellCapture)\n",
        "    markers = [plt.Line2D([0, 0], [0, 0], color=color, marker='o', ms=10, linestyle='') for color in cellCapture.values()]\n",
        "\n",
        "    plt.scatter(xData, yData, 100, c=color_map, alpha=0.6)\n",
        "    if xErr is not None:\n",
        "        plt.errorbar(xData, yData, xerr=xErr, fmt='none', marker='none', ecolor=color_map)\n",
        "\n",
        "    # l = plt.legend(markers, cellCapture.keys(), numpoints=1, title='Capture', bbox_to_anchor=(1.1, 0.5), loc=10, fontsize=16)\n",
        "    l = plt.legend(markers, cellCapture.keys(), numpoints=1, title='Capture', loc=4, fontsize=16)\n",
        "    plt.setp(l.get_title(), fontsize=16)\n",
        "    # plt.show()"
      ]
    },
    {
      "cell_type": "code",
      "execution_count": null,
      "metadata": {
        "id": "3tvvFK5aXQiJ"
      },
      "outputs": [],
      "source": []
    }
  ],
  "metadata": {
    "kernelspec": {
      "display_name": "Python 3",
      "language": "python",
      "name": "python3"
    },
    "language_info": {
      "codemirror_mode": {
        "name": "ipython",
        "version": 3
      },
      "file_extension": ".py",
      "mimetype": "text/x-python",
      "name": "python",
      "nbconvert_exporter": "python",
      "pygments_lexer": "ipython3",
      "version": "3.7.4"
    },
    "colab": {
      "provenance": []
    }
  },
  "nbformat": 4,
  "nbformat_minor": 0
}