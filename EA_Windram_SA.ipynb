{
 "cells": [
  {
   "cell_type": "code",
   "execution_count": 1,
   "metadata": {},
   "outputs": [],
   "source": [
    "import pandas as pd\n",
    "import numpy as np\n",
    "from numpy.random import randint, rand\n",
    "from sklearn.preprocessing import scale"
   ]
  },
  {
   "cell_type": "code",
   "execution_count": 2,
   "metadata": {},
   "outputs": [],
   "source": [
    "Y = pd.read_csv('./data/Windram/WindramTrainingData.csv', index_col=[0]).T.values\n",
    "mData = pd.read_csv('./data/Windram/WindramMetaData.csv', index_col=[0])"
   ]
  },
  {
   "cell_type": "code",
   "execution_count": 3,
   "metadata": {},
   "outputs": [],
   "source": [
    "Y = scale(Y)"
   ]
  },
  {
   "cell_type": "code",
   "execution_count": 4,
   "metadata": {},
   "outputs": [
    {
     "name": "stdout",
     "output_type": "stream",
     "text": [
      "Time Points: 24, Genes: 100\n"
     ]
    }
   ],
   "source": [
    "N, D = Y.shape\n",
    "print('Time Points: %s, Genes: %s'%(N, D))"
   ]
  },
  {
   "cell_type": "code",
   "execution_count": 5,
   "metadata": {},
   "outputs": [
    {
     "data": {
      "text/plain": [
       "array([ 6,  6,  6,  6,  6,  6, 18, 18, 18, 18, 18, 18, 30, 30, 30, 30, 30,\n",
       "       30, 42, 42, 42, 42, 42, 42], dtype=int64)"
      ]
     },
     "execution_count": 5,
     "metadata": {},
     "output_type": "execute_result"
    }
   ],
   "source": [
    "mData['capture'].values"
   ]
  },
  {
   "cell_type": "code",
   "execution_count": 6,
   "metadata": {},
   "outputs": [
    {
     "name": "stdout",
     "output_type": "stream",
     "text": [
      "<class 'numpy.ndarray'>\n"
     ]
    }
   ],
   "source": [
    "n_pop = N * 6\n",
    "np.random.seed(10)\n",
    "sigma_t = 3.\n",
    "prior_mean = mData['capture'].values\n",
    "print(type(prior_mean))\n",
    "# N = 5\n",
    "pop = [np.asanyarray([prior_mean[i] + sigma_t * np.random.randn(1) for i in range(0, N)]).reshape(-1) for _ in range(0, n_pop)]\n",
    "# np.array(prior_mean).shape\n",
    "# pop"
   ]
  },
  {
   "cell_type": "code",
   "execution_count": 7,
   "metadata": {},
   "outputs": [],
   "source": [
    "from sklearn.linear_model import LinearRegression\n",
    "from sklearn.preprocessing import PolynomialFeatures\n",
    "# from sklearn.preprocessing import SplineTransformer\n",
    "from sklearn.metrics import mean_squared_error\n",
    "\n",
    "def objectiveFunction(x):\n",
    "    x = x[:,None]\n",
    "    x_ = PolynomialFeatures(degree=3, include_bias=False).fit_transform(x)\n",
    "#     x_ = PolynomialFeatures(degree=2, include_bias=False).fit_transform(x)\n",
    "    \n",
    "#     x_ = SplineTransformer(degree=2, n_knots=3).fit_transform(x)\n",
    "    mse = 0.\n",
    "    \n",
    "    for i in range(0, D):\n",
    "        y = Y[:,i]\n",
    "        model = LinearRegression().fit(x_, y)\n",
    "\n",
    "#         num_params = len(model.coef_) + 1\n",
    "#         print('Number of parameters: %d' % (num_params))\n",
    "#         print(model.coef_)\n",
    "\n",
    "        # predict the training set\n",
    "        yhat = model.predict(x_)\n",
    "        # calculate the error\n",
    "        mse += mean_squared_error(y, yhat)\n",
    "#     print('MSE: %.3f' % mse)\n",
    "    del model, y, yhat, x, x_\n",
    "    return mse\n",
    "\n",
    "# tournament selection\n",
    "def selection(pop, scores, k=3):\n",
    "    # first random selection\n",
    "    selection_ix = randint(len(pop))\n",
    "    for ix in randint(0, len(pop), k-1):\n",
    "        # check if better (e.g. perform a tournament)\n",
    "        if scores[ix] < scores[selection_ix]:\n",
    "            selection_ix = ix\n",
    "    return pop[selection_ix]"
   ]
  },
  {
   "cell_type": "code",
   "execution_count": 8,
   "metadata": {},
   "outputs": [],
   "source": [
    "# crossover two parents to create two children\n",
    "def crossover(p1, p2, r_cross=0.9):\n",
    "    # children are copies of parents by default\n",
    "    c1, c2 = p1.copy(), p2.copy()\n",
    "#     print('Sumon')\n",
    "#     print(c1.shape)\n",
    "    # check for recombination\n",
    "    if rand() < r_cross:\n",
    "        # select crossover point that is not on the end of the string\n",
    "        pt = randint(1, len(p1)-2)\n",
    "        # perform crossover\n",
    "        c1 = np.concatenate( (p1[:pt], p2[pt:]), axis=None)\n",
    "        c2 = np.concatenate( (p2[:pt], p1[pt:]), axis=None)\n",
    "#         print(c1, c2)\n",
    "    return [c1, c2]\n",
    "\n",
    "# mutation operator\n",
    "def mutation(offSpring, r_mut=0.05):\n",
    "    sigma_mu = 2.\n",
    "    for i in range(0, len(offSpring)):\n",
    "        # check for a mutation\n",
    "        if rand() < r_mut:\n",
    "            offSpring[i] = offSpring[i] + sigma_mu * np.random.randn(1)"
   ]
  },
  {
   "cell_type": "code",
   "execution_count": 9,
   "metadata": {},
   "outputs": [
    {
     "name": "stdout",
     "output_type": "stream",
     "text": [
      ">0, new best_eval = 33.917\n",
      ">1, new best_eval = 33.886\n",
      ">2, new best_eval = 33.603\n",
      ">3, new best_eval = 32.434\n",
      ">4, new best_eval = 31.836\n",
      ">5, new best_eval = 31.396\n",
      ">6, new best_eval = 30.891\n",
      ">7, new best_eval = 30.714\n",
      ">8, new best_eval = 30.405\n",
      ">9, new best_eval = 30.360\n",
      ">10, new best_eval = 30.232\n",
      ">11, new best_eval = 30.032\n",
      ">12, new best_eval = 29.758\n",
      ">13, new best_eval = 29.684\n",
      ">14, new best_eval = 29.587\n",
      ">15, new best_eval = 29.585\n",
      ">16, new best_eval = 29.585\n",
      ">17, new best_eval = 29.585\n",
      ">18, new best_eval = 29.555\n",
      ">19, new best_eval = 29.555\n",
      ">20, new best_eval = 29.386\n",
      ">21, new best_eval = 29.049\n",
      ">22, new best_eval = 29.036\n",
      ">23, new best_eval = 29.036\n",
      ">24, new best_eval = 28.982\n",
      ">25, new best_eval = 28.879\n",
      ">26, new best_eval = 28.857\n",
      ">27, new best_eval = 28.855\n",
      ">28, new best_eval = 28.824\n",
      ">29, new best_eval = 28.713\n",
      ">30, new best_eval = 28.498\n",
      ">31, new best_eval = 28.498\n",
      ">32, new best_eval = 28.498\n",
      ">33, new best_eval = 28.382\n",
      ">34, new best_eval = 28.382\n",
      ">35, new best_eval = 28.382\n",
      ">36, new best_eval = 28.382\n",
      ">37, new best_eval = 28.348\n",
      ">38, new best_eval = 28.348\n",
      ">39, new best_eval = 28.348\n",
      ">40, new best_eval = 28.195\n",
      ">41, new best_eval = 28.195\n",
      ">42, new best_eval = 27.989\n",
      ">43, new best_eval = 27.989\n",
      ">44, new best_eval = 27.982\n",
      ">45, new best_eval = 27.842\n",
      ">46, new best_eval = 27.803\n",
      ">47, new best_eval = 27.803\n",
      ">48, new best_eval = 27.710\n",
      ">49, new best_eval = 27.669\n",
      ">50, new best_eval = 27.669\n",
      ">51, new best_eval = 27.562\n",
      ">52, new best_eval = 27.562\n",
      ">53, new best_eval = 27.562\n",
      ">54, new best_eval = 27.517\n",
      ">55, new best_eval = 27.491\n",
      ">56, new best_eval = 27.391\n",
      ">57, new best_eval = 27.391\n",
      ">58, new best_eval = 27.391\n",
      ">59, new best_eval = 27.387\n",
      ">60, new best_eval = 27.341\n",
      ">61, new best_eval = 27.293\n",
      ">62, new best_eval = 27.201\n",
      ">63, new best_eval = 27.201\n",
      ">64, new best_eval = 27.201\n",
      ">65, new best_eval = 27.201\n",
      ">66, new best_eval = 27.174\n",
      ">67, new best_eval = 27.174\n",
      ">68, new best_eval = 27.123\n",
      ">69, new best_eval = 27.123\n",
      ">70, new best_eval = 27.123\n",
      ">71, new best_eval = 27.123\n",
      ">72, new best_eval = 27.123\n",
      ">73, new best_eval = 27.123\n",
      ">74, new best_eval = 27.123\n",
      ">75, new best_eval = 27.123\n",
      ">76, new best_eval = 27.123\n",
      ">77, new best_eval = 27.123\n",
      ">78, new best_eval = 27.123\n",
      ">79, new best_eval = 27.123\n",
      ">80, new best_eval = 27.123\n",
      ">81, new best_eval = 27.123\n",
      ">82, new best_eval = 27.123\n",
      ">83, new best_eval = 27.076\n",
      ">84, new best_eval = 27.076\n",
      ">85, new best_eval = 27.076\n",
      ">86, new best_eval = 27.076\n",
      ">87, new best_eval = 27.076\n",
      ">88, new best_eval = 27.076\n",
      ">89, new best_eval = 27.012\n",
      ">90, new best_eval = 27.012\n",
      ">91, new best_eval = 27.012\n",
      ">92, new best_eval = 27.012\n",
      ">93, new best_eval = 27.012\n",
      ">94, new best_eval = 27.012\n",
      ">95, new best_eval = 27.006\n",
      ">96, new best_eval = 27.006\n",
      ">97, new best_eval = 27.006\n",
      ">98, new best_eval = 26.964\n",
      ">99, new best_eval = 26.964\n",
      ">100, new best_eval = 26.964\n",
      ">101, new best_eval = 26.964\n",
      ">102, new best_eval = 26.964\n",
      ">103, new best_eval = 26.964\n",
      ">104, new best_eval = 26.964\n",
      ">105, new best_eval = 26.964\n",
      ">106, new best_eval = 26.964\n",
      ">107, new best_eval = 26.964\n",
      ">108, new best_eval = 26.964\n",
      ">109, new best_eval = 26.964\n",
      ">110, new best_eval = 26.964\n",
      ">111, new best_eval = 26.964\n",
      ">112, new best_eval = 26.964\n",
      ">113, new best_eval = 26.964\n",
      ">114, new best_eval = 26.964\n",
      ">115, new best_eval = 26.964\n",
      ">116, new best_eval = 26.964\n",
      ">117, new best_eval = 26.964\n",
      ">118, new best_eval = 26.964\n",
      ">119, new best_eval = 26.964\n",
      ">120, new best_eval = 26.964\n",
      ">121, new best_eval = 26.964\n",
      ">122, new best_eval = 26.964\n",
      ">123, new best_eval = 26.964\n",
      ">124, new best_eval = 26.964\n",
      ">125, new best_eval = 26.964\n",
      ">126, new best_eval = 26.964\n",
      ">127, new best_eval = 26.964\n",
      ">128, new best_eval = 26.964\n",
      ">129, new best_eval = 26.964\n",
      ">130, new best_eval = 26.964\n",
      ">131, new best_eval = 26.964\n",
      ">132, new best_eval = 26.964\n",
      ">133, new best_eval = 26.964\n",
      ">134, new best_eval = 26.964\n",
      ">135, new best_eval = 26.964\n",
      ">136, new best_eval = 26.964\n",
      ">137, new best_eval = 26.964\n",
      ">138, new best_eval = 26.964\n",
      ">139, new best_eval = 26.952\n",
      ">140, new best_eval = 26.952\n",
      ">141, new best_eval = 26.952\n",
      ">142, new best_eval = 26.952\n",
      ">143, new best_eval = 26.952\n",
      ">144, new best_eval = 26.952\n",
      ">145, new best_eval = 26.952\n",
      ">146, new best_eval = 26.952\n",
      ">147, new best_eval = 26.936\n",
      ">148, new best_eval = 26.936\n",
      ">149, new best_eval = 26.936\n",
      ">150, new best_eval = 26.936\n",
      ">151, new best_eval = 26.936\n",
      ">152, new best_eval = 26.936\n",
      ">153, new best_eval = 26.936\n",
      ">154, new best_eval = 26.936\n",
      ">155, new best_eval = 26.936\n",
      ">156, new best_eval = 26.936\n",
      ">157, new best_eval = 26.936\n",
      ">158, new best_eval = 26.936\n",
      ">159, new best_eval = 26.936\n",
      ">160, new best_eval = 26.936\n",
      ">161, new best_eval = 26.936\n",
      ">162, new best_eval = 26.936\n",
      ">163, new best_eval = 26.936\n",
      ">164, new best_eval = 26.936\n",
      ">165, new best_eval = 26.936\n",
      ">166, new best_eval = 26.936\n",
      ">167, new best_eval = 26.936\n",
      ">168, new best_eval = 26.936\n",
      ">169, new best_eval = 26.936\n",
      ">170, new best_eval = 26.936\n",
      ">171, new best_eval = 26.936\n",
      ">172, new best_eval = 26.924\n",
      ">173, new best_eval = 26.856\n",
      ">174, new best_eval = 26.856\n",
      ">175, new best_eval = 26.833\n",
      ">176, new best_eval = 26.833\n",
      ">177, new best_eval = 26.833\n",
      ">178, new best_eval = 26.833\n",
      ">179, new best_eval = 26.833\n",
      ">180, new best_eval = 26.833\n",
      ">181, new best_eval = 26.833\n",
      ">182, new best_eval = 26.833\n",
      ">183, new best_eval = 26.833\n",
      ">184, new best_eval = 26.833\n",
      ">185, new best_eval = 26.833\n",
      ">186, new best_eval = 26.833\n",
      ">187, new best_eval = 26.833\n",
      ">188, new best_eval = 26.833\n",
      ">189, new best_eval = 26.833\n",
      ">190, new best_eval = 26.833\n",
      ">191, new best_eval = 26.833\n",
      ">192, new best_eval = 26.833\n",
      ">193, new best_eval = 26.833\n",
      ">194, new best_eval = 26.833\n",
      ">195, new best_eval = 26.833\n",
      ">196, new best_eval = 26.833\n",
      ">197, new best_eval = 26.833\n",
      ">198, new best_eval = 26.833\n",
      ">199, new best_eval = 26.833\n",
      "[ 0.25183675  1.63539668  2.37853088  3.43688981  4.46910981  8.17786806\n",
      " 10.31520037 13.87429117 14.76759109 15.23756303 18.91183542 19.82259311\n",
      " 29.7886507  34.71307729 35.92128376 37.51115985 37.66294836 39.09453907\n",
      " 38.84199635 39.93583377 40.04717681 39.61079792 39.62701849 40.62178849] 26.83335740289943\n"
     ]
    }
   ],
   "source": [
    "n_iter = 200\n",
    "best, best_eval = 0, objectiveFunction(pop[0])\n",
    "# print(best_eval)\n",
    "for gen in range (0, n_iter):\n",
    "    scores = [objectiveFunction(c) for c in pop]\n",
    "    for j in range(0,n_pop):\n",
    "        if scores[j] < best_eval:\n",
    "            best, best_eval = pop[j], scores[j]\n",
    "#     print(\">%d, new best f(%s) = %.3f\" % (gen,  best, best_eval))\n",
    "    print(\">%d, new best_eval = %.3f\" % (gen, best_eval))\n",
    "    \n",
    "    # select parents\n",
    "    selected = [selection(pop, scores) for _ in range(0,n_pop)]\n",
    "#     print(\"Selected\")\n",
    "#     print(len(selected))\n",
    "#     print(selected)\n",
    "    # create the next generation\n",
    "    children = list()\n",
    "    for i in range(0, n_pop, 2):\n",
    "        # get selected parents in pairs\n",
    "        p1, p2 = selected[i], selected[i]\n",
    "        # crossover and mutation\n",
    "        for c in crossover(p1, p2, r_cross=0.95):\n",
    "#             # mutation\n",
    "            mutation(c, r_mut=0.1)\n",
    "#             # store for next generation\n",
    "            children.append(c)\n",
    "#     print(len(children))\n",
    "#     # replace population\n",
    "    pop = children\n",
    "#     return [best, best_eval]\n",
    "print(best, best_eval)"
   ]
  },
  {
   "cell_type": "code",
   "execution_count": 10,
   "metadata": {},
   "outputs": [],
   "source": [
    "GrandPrixPseudotime = [ 2.86531809,  4.88945813,  5.96739786,  7.23224292,  7.29511602,  8.96443969,\n",
    " 12.1667392,  13.0697646,  15.31346009, 15.18385335, 20.8482835,  21.97757157,\n",
    " 28.11913182, 31.73585841, 33.19288584, 34.98632816, 35.81588204, 37.99144322,\n",
    " 38.5310093,  39.15410389, 39.92016282, 40.13889337, 40.14194657, 40.53709647]"
   ]
  },
  {
   "cell_type": "code",
   "execution_count": 13,
   "metadata": {},
   "outputs": [
    {
     "data": {
      "image/png": "[encoded data removed]",
      "text/plain": [
       "<Figure size 1152x864 with 2 Axes>"
      ]
     },
     "metadata": {
      "needs_background": "light"
     },
     "output_type": "display_data"
    }
   ],
   "source": [
    "from matplotlib import pyplot as plt\n",
    "from utils import plot\n",
    "actual_capture_time = mData['capture.orig'].values\n",
    "fig, ax = plt.subplots(nrows=1, ncols=2, sharey=True, figsize=(16, 12))\n",
    "plt.subplot(2, 2, 1)\n",
    "plot('Evolutionary Algorithm', 'Pseudotime', 'Capture time', best, actual_capture_time, mData['capture'].values)\n",
    "plt.subplot(2, 2, 2)\n",
    "plot('GrandPrix', 'Pseudotime', 'Capture time', GrandPrixPseudotime, actual_capture_time, mData['capture'].values)\n",
    "plt.show()"
   ]
  },
  {
   "cell_type": "code",
   "execution_count": null,
   "metadata": {},
   "outputs": [],
   "source": []
  },
  {
   "cell_type": "code",
   "execution_count": 12,
   "metadata": {},
   "outputs": [
    {
     "name": "stdout",
     "output_type": "stream",
     "text": [
      "SpearmanrResult(correlation=0.9913043478260868, pvalue=7.113899561244949e-21)\n"
     ]
    }
   ],
   "source": [
    "from scipy import stats\n",
    "print(stats.spearmanr(best, GrandPrixPseudotime))"
   ]
  },
  {
   "cell_type": "code",
   "execution_count": null,
   "metadata": {},
   "outputs": [],
   "source": []
  }
 ],
 "metadata": {
  "kernelspec": {
   "display_name": "Python [conda env:py35]",
   "language": "python",
   "name": "conda-env-py35-py"
  },
  "language_info": {
   "codemirror_mode": {
    "name": "ipython",
    "version": 3
   },
   "file_extension": ".py",
   "mimetype": "text/x-python",
   "name": "python",
   "nbconvert_exporter": "python",
   "pygments_lexer": "ipython3",
   "version": "3.5.6"
  }
 },
 "nbformat": 4,
 "nbformat_minor": 4
}
